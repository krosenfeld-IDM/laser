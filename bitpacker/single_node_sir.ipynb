{
 "cells": [
  {
   "cell_type": "code",
   "execution_count": null,
   "id": "b415b935-9472-4fb8-a250-96da5885379e",
   "metadata": {},
   "outputs": [],
   "source": [
    "\"\"\"\n",
    "Bit packing. Each agent is represented by 32 bits. This example uses 22 bits per agent.\n",
    "\"\"\"\n",
    "\n",
    "import sys\n",
    "import numpy as np\n",
    "from tqdm import tqdm\n",
    "from collections import OrderedDict\n",
    "import matplotlib.pyplot as plt\n",
    "from enum import Enum\n",
    "from numpy import array\n",
    "from methods import *"
   ]
  },
  {
   "cell_type": "code",
   "execution_count": null,
   "id": "4ff308d7-fa14-433f-83c7-c73a827cbec9",
   "metadata": {},
   "outputs": [],
   "source": [
    "class States(Enum):\n",
    "    NULL = 0\n",
    "    S = 1\n",
    "    I = 2\n",
    "    R = 3"
   ]
  },
  {
   "cell_type": "code",
   "execution_count": null,
   "id": "e61898c8-3644-4f50-af1e-087a4dc51903",
   "metadata": {},
   "outputs": [],
   "source": [
    "# setup the way we will store our info\n",
    "attr_sizes = OrderedDict()\n",
    "attr_sizes['node']  = 5  # node id\n",
    "attr_sizes['age']   = 15 # in days\n",
    "attr_sizes['state'] = 2  # Null = 0,S = 1,I = 2, R = 3\n",
    "\n",
    "# create the bit mapping (attribute: [ start, size])\n",
    "bm = OrderedDict()\n",
    "cnt = 0\n",
    "for k,v in attr_sizes.items():\n",
    "    bm[k] = [cnt, v]\n",
    "    cnt += cnt + v\n",
    "    \n",
    "print('max size for our attributes:')\n",
    "for k,v in attr_sizes.items():\n",
    "    print(k, 2**v + 1)\n",
    "print('\\n bit mapping (starting bit position, number of bits):')\n",
    "for k,v in bm.items():\n",
    "    print(k, v)"
   ]
  },
  {
   "cell_type": "code",
   "execution_count": null,
   "id": "38a27e9e-3ff2-4aaf-b37f-c839259f234b",
   "metadata": {},
   "outputs": [],
   "source": [
    "# Single node simulation\n",
    "\n",
    "num_agents = 1_000_000\n",
    "seed_infections = 10\n",
    "R0 = 2.5\n",
    "gamma = 1/10\n",
    "num_timesteps = 365\n",
    "\n",
    "# initialize the agent array\n",
    "agents = np.zeros(num_agents, dtype=np.uint32)\n",
    "\n",
    "# put everyone in node 1 for fun\n",
    "agents = set_bits(agents, 1, *bm['node'])\n",
    "\n",
    "# let's initialize everyone to susceptible\n",
    "agents = set_bits(agents, States.S.value, *bm['state'])\n",
    "\n",
    "# seed infections\n",
    "seeds = np.random.randint(0, num_agents, seed_infections)\n",
    "agents[seeds] = set_bits(agents[seeds],  States.I.value, *bm['state'])\n",
    "print('Number of agents infected:', np.sum(check_bits(agents, *bm['state'], States.I.value)))\n",
    "\n",
    "count = lambda state: np.sum(check_bits(agents, *bm['state'], state))\n",
    "\n",
    "# main loop\n",
    "record = np.zeros((num_timesteps, 4)) # t, S, I, R\n",
    "for t in tqdm(range(num_timesteps)):\n",
    "\n",
    "    # record\n",
    "    record[t,:] = np.array([t, count(States.S.value), count(States.I.value), count(States.R.value)])\n",
    "    \n",
    "    # calculate the force of infection\n",
    "    foi = np.sum(check_bits(agents, *bm['state'], States.I.value)) * R0 * gamma / num_agents\n",
    "\n",
    "    # recover\n",
    "    mask = np.logical_and(np.random.rand(num_agents) < gamma, check_bits(agents, *bm['state'], States.I.value))\n",
    "    agents[mask] = set_bits(agents[mask], States.R.value, *bm['state'])\n",
    "    \n",
    "    # infect \n",
    "    mask = np.logical_and(np.random.rand(num_agents) < foi, check_bits(agents, *bm['state'], States.S.value))\n",
    "    agents[mask] = set_bits(agents[mask], States.I.value, *bm['state'])\n",
    "    "
   ]
  },
  {
   "cell_type": "code",
   "execution_count": null,
   "id": "2ee3a94f-710d-4019-916b-8009ee71b900",
   "metadata": {},
   "outputs": [],
   "source": [
    "plt.plot(record[:,1:]/ num_agents)\n",
    "plt.legend(['S','I','R'])\n",
    "plt.xlabel('Time'); plt.ylabel('Fraction')"
   ]
  }
 ],
 "metadata": {
  "kernelspec": {
   "display_name": "Python 3 (ipykernel)",
   "language": "python",
   "name": "python3"
  },
  "language_info": {
   "codemirror_mode": {
    "name": "ipython",
    "version": 3
   },
   "file_extension": ".py",
   "mimetype": "text/x-python",
   "name": "python",
   "nbconvert_exporter": "python",
   "pygments_lexer": "ipython3",
   "version": "3.9.18"
  }
 },
 "nbformat": 4,
 "nbformat_minor": 5
}
